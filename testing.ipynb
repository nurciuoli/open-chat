{
 "cells": [
  {
   "cell_type": "code",
   "execution_count": 1,
   "metadata": {},
   "outputs": [
    {
     "name": "stdout",
     "output_type": "stream",
     "text": [
      "cp: initializing agent\n",
      "cp: assistant initialized\n",
      "cp: starting chat\n",
      "cp: creating thread\n",
      "cp: thread created\n",
      "cp: msg created\n",
      "cp: waiting on run\n",
      "cp: requires action\n",
      "cp: going through tool actions\n",
      "cp: delegate_instructions\n",
      "cp: done going through tool actions\n",
      "cp: run complete\n",
      "=========================================\n",
      "               messages \n",
      "-----------------------------------------\n",
      "user: write me three random jokes in .txt files, make them about horses\n",
      "assistant: The three jokes about horses have been written and saved in .txt files. You can find them in the project folder.\n",
      "=========================================\n"
     ]
    }
   ],
   "source": [
    "from myGpt import Agent as OAgent\n",
    "from agent_tools import delegate_instructions_json\n",
    "\n",
    "agi = OAgent(system_prompt=\"\"\"BACKGROUND: you are a manager, your job is to delegate_instructions to a team of efficient workers\n",
    "             YOU ONLY HAVE ONE SHOT\"\"\",\n",
    "             tools=[{\"type\": \"function\", \"function\":delegate_instructions_json}])\n",
    "\n",
    "agi.chat(\"write me three random jokes in .txt files, make them about horses\")\n"
   ]
  },
  {
   "cell_type": "code",
   "execution_count": null,
   "metadata": {},
   "outputs": [],
   "source": []
  }
 ],
 "metadata": {
  "kernelspec": {
   "display_name": "agi_with_front",
   "language": "python",
   "name": "python3"
  },
  "language_info": {
   "codemirror_mode": {
    "name": "ipython",
    "version": 3
   },
   "file_extension": ".py",
   "mimetype": "text/x-python",
   "name": "python",
   "nbconvert_exporter": "python",
   "pygments_lexer": "ipython3",
   "version": "3.11.8"
  }
 },
 "nbformat": 4,
 "nbformat_minor": 2
}
