{
 "cells": [
  {
   "cell_type": "code",
   "execution_count": 1,
   "metadata": {},
   "outputs": [
    {
     "name": "stderr",
     "output_type": "stream",
     "text": [
      "INFO:myGpt:Initializing agent\n",
      "INFO:httpx:HTTP Request: POST https://api.openai.com/v1/assistants \"HTTP/1.1 200 OK\"\n",
      "INFO:myGpt:Assistant initialized\n",
      "INFO:myGpt:Creating thread\n",
      "INFO:httpx:HTTP Request: POST https://api.openai.com/v1/threads \"HTTP/1.1 200 OK\"\n",
      "INFO:myGpt:Thread created\n",
      "INFO:httpx:HTTP Request: POST https://api.openai.com/v1/threads/thread_wNCfi51E777CD928ydkXyUky/messages \"HTTP/1.1 200 OK\"\n",
      "INFO:myGpt:Waiting on run\n",
      "INFO:httpx:HTTP Request: POST https://api.openai.com/v1/threads/thread_wNCfi51E777CD928ydkXyUky/runs \"HTTP/1.1 200 OK\"\n",
      "INFO:httpx:HTTP Request: GET https://api.openai.com/v1/threads/thread_wNCfi51E777CD928ydkXyUky/runs/run_4eUskQEQlb8U0YMByjwOvZYz \"HTTP/1.1 200 OK\"\n",
      "INFO:httpx:HTTP Request: GET https://api.openai.com/v1/threads/thread_wNCfi51E777CD928ydkXyUky/runs/run_4eUskQEQlb8U0YMByjwOvZYz \"HTTP/1.1 200 OK\"\n",
      "INFO:httpx:HTTP Request: GET https://api.openai.com/v1/threads/thread_wNCfi51E777CD928ydkXyUky/runs/run_4eUskQEQlb8U0YMByjwOvZYz \"HTTP/1.1 200 OK\"\n",
      "INFO:httpx:HTTP Request: GET https://api.openai.com/v1/threads/thread_wNCfi51E777CD928ydkXyUky/runs/run_4eUskQEQlb8U0YMByjwOvZYz \"HTTP/1.1 200 OK\"\n",
      "INFO:httpx:HTTP Request: GET https://api.openai.com/v1/threads/thread_wNCfi51E777CD928ydkXyUky/runs/run_4eUskQEQlb8U0YMByjwOvZYz \"HTTP/1.1 200 OK\"\n",
      "INFO:httpx:HTTP Request: GET https://api.openai.com/v1/threads/thread_wNCfi51E777CD928ydkXyUky/runs/run_4eUskQEQlb8U0YMByjwOvZYz \"HTTP/1.1 200 OK\"\n",
      "INFO:httpx:HTTP Request: GET https://api.openai.com/v1/threads/thread_wNCfi51E777CD928ydkXyUky/runs/run_4eUskQEQlb8U0YMByjwOvZYz \"HTTP/1.1 200 OK\"\n",
      "INFO:httpx:HTTP Request: GET https://api.openai.com/v1/threads/thread_wNCfi51E777CD928ydkXyUky/runs/run_4eUskQEQlb8U0YMByjwOvZYz \"HTTP/1.1 200 OK\"\n",
      "INFO:httpx:HTTP Request: GET https://api.openai.com/v1/threads/thread_wNCfi51E777CD928ydkXyUky/runs/run_4eUskQEQlb8U0YMByjwOvZYz \"HTTP/1.1 200 OK\"\n",
      "INFO:myGpt:Requires action\n",
      "INFO:myGpt:Going through tool actions\n",
      "INFO:myGpt:delegate_instructions\n",
      "INFO:myGpt:Generating content\n",
      "INFO:httpx:HTTP Request: POST http://127.0.0.1:11434/api/generate \"HTTP/1.1 200 OK\"\n",
      "INFO:myGpt:Content generated\n",
      "INFO:myGpt:File created sandbox/greeting_partner.py\n",
      "INFO:httpx:HTTP Request: POST https://api.openai.com/v1/files \"HTTP/1.1 200 OK\"\n",
      "INFO:myGpt:Generating content\n",
      "INFO:httpx:HTTP Request: POST http://127.0.0.1:11434/api/generate \"HTTP/1.1 200 OK\"\n",
      "INFO:myGpt:Content generated\n",
      "INFO:myGpt:File created sandbox/greeting_good_guy.py\n",
      "INFO:httpx:HTTP Request: POST https://api.openai.com/v1/files \"HTTP/1.1 200 OK\"\n",
      "INFO:httpx:HTTP Request: POST https://api.openai.com/v1/threads/thread_wNCfi51E777CD928ydkXyUky/runs/run_4eUskQEQlb8U0YMByjwOvZYz/submit_tool_outputs \"HTTP/1.1 200 OK\"\n",
      "INFO:myGpt:Done going through tool actions\n",
      "INFO:httpx:HTTP Request: GET https://api.openai.com/v1/threads/thread_wNCfi51E777CD928ydkXyUky/runs/run_4eUskQEQlb8U0YMByjwOvZYz \"HTTP/1.1 200 OK\"\n",
      "INFO:httpx:HTTP Request: GET https://api.openai.com/v1/threads/thread_wNCfi51E777CD928ydkXyUky/runs/run_4eUskQEQlb8U0YMByjwOvZYz \"HTTP/1.1 200 OK\"\n",
      "INFO:httpx:HTTP Request: GET https://api.openai.com/v1/threads/thread_wNCfi51E777CD928ydkXyUky/runs/run_4eUskQEQlb8U0YMByjwOvZYz \"HTTP/1.1 200 OK\"\n",
      "INFO:httpx:HTTP Request: GET https://api.openai.com/v1/threads/thread_wNCfi51E777CD928ydkXyUky/runs/run_4eUskQEQlb8U0YMByjwOvZYz \"HTTP/1.1 200 OK\"\n",
      "INFO:httpx:HTTP Request: GET https://api.openai.com/v1/threads/thread_wNCfi51E777CD928ydkXyUky/runs/run_4eUskQEQlb8U0YMByjwOvZYz \"HTTP/1.1 200 OK\"\n",
      "INFO:httpx:HTTP Request: GET https://api.openai.com/v1/threads/thread_wNCfi51E777CD928ydkXyUky/runs/run_4eUskQEQlb8U0YMByjwOvZYz \"HTTP/1.1 200 OK\"\n",
      "INFO:myGpt:Run complete\n",
      "INFO:httpx:HTTP Request: GET https://api.openai.com/v1/threads/thread_wNCfi51E777CD928ydkXyUky/runs/run_4eUskQEQlb8U0YMByjwOvZYz \"HTTP/1.1 200 OK\"\n",
      "INFO:myGpt:Finished waiting\n",
      "INFO:myGpt:Initializing agent\n",
      "INFO:httpx:HTTP Request: POST https://api.openai.com/v1/assistants \"HTTP/1.1 200 OK\"\n",
      "INFO:myGpt:Assistant initialized\n",
      "INFO:httpx:HTTP Request: GET https://api.openai.com/v1/threads/thread_wNCfi51E777CD928ydkXyUky/messages?order=asc \"HTTP/1.1 200 OK\"\n",
      "INFO:httpx:HTTP Request: GET https://api.openai.com/v1/threads/thread_wNCfi51E777CD928ydkXyUky/messages?order=asc&after=msg_RFdOe22OPdlJewV3eRQ8Sjmn \"HTTP/1.1 200 OK\"\n"
     ]
    },
    {
     "name": "stdout",
     "output_type": "stream",
     "text": [
      "=========================================\n",
      "               messages \n",
      "-----------------------------------------\n",
      "user: can you build me two python functions, one that says 'hello there parter' when prompted, and another than says 'hi there good guy'\n",
      "assistant: I have delegated the task to create the two Python functions. They will output the requested greeting messages when prompted. The functions will be named `greeting_partner.py` and `greeting_good_guy.py`. Now we just need to wait for the completion of the functions.\n",
      "=========================================\n"
     ]
    }
   ],
   "source": [
    "from myGpt import Agent as OAgent\n",
    "from agent_tools import delegate_instructions_json\n",
    "\n",
    "agi = OAgent(system_prompt=\"\"\"BACKGROUND: you are a project manager, if the user requests something to be built you MUST use delegate_instructions to a team of efficient workers.\n",
    "             \"\"\",\n",
    "             tools=[{\"type\": \"function\", \"function\":delegate_instructions_json},\n",
    "                    {\"type\": \"file_search\"}],\n",
    ")\n",
    "\n",
    "agi.chat(\"can you build me two python functions, one that says 'hello there parter' when prompted, and another than says 'hi there good guy'\")\n"
   ]
  },
  {
   "cell_type": "code",
   "execution_count": 2,
   "metadata": {},
   "outputs": [
    {
     "data": {
      "text/plain": [
       "['No additional setup required; just run this code to see the output',\n",
       " \"You can call this function by running 'hello()'\"]"
      ]
     },
     "execution_count": 2,
     "metadata": {},
     "output_type": "execute_result"
    }
   ],
   "source": [
    "agi.file_comments"
   ]
  },
  {
   "cell_type": "code",
   "execution_count": null,
   "metadata": {},
   "outputs": [],
   "source": []
  }
 ],
 "metadata": {
  "kernelspec": {
   "display_name": "agi_with_front",
   "language": "python",
   "name": "python3"
  },
  "language_info": {
   "codemirror_mode": {
    "name": "ipython",
    "version": 3
   },
   "file_extension": ".py",
   "mimetype": "text/x-python",
   "name": "python",
   "nbconvert_exporter": "python",
   "pygments_lexer": "ipython3",
   "version": "3.11.8"
  }
 },
 "nbformat": 4,
 "nbformat_minor": 2
}
