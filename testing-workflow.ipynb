{
 "cells": [
  {
   "cell_type": "code",
   "execution_count": 1,
   "metadata": {},
   "outputs": [
    {
     "name": "stdout",
     "output_type": "stream",
     "text": [
      "cp: initializing agent\n",
      "cp: assistant initialized\n",
      "cp: creating thread\n",
      "cp: thread created\n",
      "cp: waiting on run\n",
      "cp: requires action\n",
      "cp: going through tool actions\n",
      "cp: delegate_instructions\n",
      "cp: generating content\n",
      "cp: generating content\n",
      "cp: file created sandbox/hello_partner.py\n",
      "cp: generating content\n",
      "cp: generating content\n",
      "cp: file created sandbox/hello_good_guy.py\n",
      "cp: done going through tool actions\n",
      "cp: run complete\n",
      "cp: finished waiting\n",
      "cp: initializing agent\n",
      "cp: assistant initialized\n",
      "=========================================\n",
      "               messages \n",
      "-----------------------------------------\n",
      "user: can you build me two python functions, one that says 'hello there parter' when prompted, and another than says 'hi there good guy'\n",
      "assistant: I've delegated the task to create the two Python functions for you. They will be named \"hello_partner.py\" and \"hello_good_guy.py\", and they will contain the specified print statements.\n",
      "=========================================\n"
     ]
    }
   ],
   "source": [
    "from myGpt import Agent as OAgent\n",
    "from agent_tools import delegate_instructions_json\n",
    "\n",
    "agi = OAgent(system_prompt=\"\"\"BACKGROUND: you are a project manager, if the user requests something to be built you MUST use delegate_instructions to a team of efficient workers.\n",
    "             \"\"\",\n",
    "             tools=[{\"type\": \"function\", \"function\":delegate_instructions_json},\n",
    "                    {\"type\": \"file_search\"}],\n",
    ")\n",
    "\n",
    "agi.chat(\"can you build me two python functions, one that says 'hello there parter' when prompted, and another than says 'hi there good guy'\")\n"
   ]
  },
  {
   "cell_type": "code",
   "execution_count": 2,
   "metadata": {},
   "outputs": [
    {
     "data": {
      "text/plain": [
       "['', 'install Python, run the script']"
      ]
     },
     "execution_count": 2,
     "metadata": {},
     "output_type": "execute_result"
    }
   ],
   "source": [
    "agi.file_comments"
   ]
  }
 ],
 "metadata": {
  "kernelspec": {
   "display_name": "agi_with_front",
   "language": "python",
   "name": "python3"
  },
  "language_info": {
   "codemirror_mode": {
    "name": "ipython",
    "version": 3
   },
   "file_extension": ".py",
   "mimetype": "text/x-python",
   "name": "python",
   "nbconvert_exporter": "python",
   "pygments_lexer": "ipython3",
   "version": "3.11.8"
  }
 },
 "nbformat": 4,
 "nbformat_minor": 2
}
