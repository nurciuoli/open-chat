{
 "cells": [
  {
   "cell_type": "code",
   "execution_count": 1,
   "metadata": {},
   "outputs": [
    {
     "name": "stderr",
     "output_type": "stream",
     "text": [
      "INFO:myGpt:Initializing agent\n",
      "INFO:httpx:HTTP Request: POST https://api.openai.com/v1/assistants \"HTTP/1.1 200 OK\"\n",
      "INFO:myGpt:Assistant initialized\n",
      "INFO:myGpt:Creating thread\n",
      "INFO:httpx:HTTP Request: POST https://api.openai.com/v1/threads \"HTTP/1.1 200 OK\"\n",
      "INFO:myGpt:Thread created\n",
      "INFO:httpx:HTTP Request: POST https://api.openai.com/v1/threads/thread_B4VWgePyEiNOVaaM4T0cqgkM/messages \"HTTP/1.1 200 OK\"\n",
      "INFO:myGpt:Waiting on run\n",
      "INFO:httpx:HTTP Request: POST https://api.openai.com/v1/threads/thread_B4VWgePyEiNOVaaM4T0cqgkM/runs \"HTTP/1.1 200 OK\"\n",
      "INFO:httpx:HTTP Request: GET https://api.openai.com/v1/threads/thread_B4VWgePyEiNOVaaM4T0cqgkM/runs/run_RqZyLU2jvhgOnCP0yeEi74tl \"HTTP/1.1 200 OK\"\n",
      "INFO:httpx:HTTP Request: GET https://api.openai.com/v1/threads/thread_B4VWgePyEiNOVaaM4T0cqgkM/runs/run_RqZyLU2jvhgOnCP0yeEi74tl \"HTTP/1.1 200 OK\"\n",
      "INFO:httpx:HTTP Request: GET https://api.openai.com/v1/threads/thread_B4VWgePyEiNOVaaM4T0cqgkM/runs/run_RqZyLU2jvhgOnCP0yeEi74tl \"HTTP/1.1 200 OK\"\n",
      "INFO:httpx:HTTP Request: GET https://api.openai.com/v1/threads/thread_B4VWgePyEiNOVaaM4T0cqgkM/runs/run_RqZyLU2jvhgOnCP0yeEi74tl \"HTTP/1.1 200 OK\"\n",
      "INFO:httpx:HTTP Request: GET https://api.openai.com/v1/threads/thread_B4VWgePyEiNOVaaM4T0cqgkM/runs/run_RqZyLU2jvhgOnCP0yeEi74tl \"HTTP/1.1 200 OK\"\n",
      "INFO:httpx:HTTP Request: GET https://api.openai.com/v1/threads/thread_B4VWgePyEiNOVaaM4T0cqgkM/runs/run_RqZyLU2jvhgOnCP0yeEi74tl \"HTTP/1.1 200 OK\"\n",
      "INFO:httpx:HTTP Request: GET https://api.openai.com/v1/threads/thread_B4VWgePyEiNOVaaM4T0cqgkM/runs/run_RqZyLU2jvhgOnCP0yeEi74tl \"HTTP/1.1 200 OK\"\n",
      "INFO:httpx:HTTP Request: GET https://api.openai.com/v1/threads/thread_B4VWgePyEiNOVaaM4T0cqgkM/runs/run_RqZyLU2jvhgOnCP0yeEi74tl \"HTTP/1.1 200 OK\"\n",
      "INFO:httpx:HTTP Request: GET https://api.openai.com/v1/threads/thread_B4VWgePyEiNOVaaM4T0cqgkM/runs/run_RqZyLU2jvhgOnCP0yeEi74tl \"HTTP/1.1 200 OK\"\n",
      "INFO:httpx:HTTP Request: GET https://api.openai.com/v1/threads/thread_B4VWgePyEiNOVaaM4T0cqgkM/runs/run_RqZyLU2jvhgOnCP0yeEi74tl \"HTTP/1.1 200 OK\"\n",
      "INFO:myGpt:Requires action\n",
      "INFO:myGpt:Going through tool actions\n",
      "INFO:myGpt:delegate_instructions\n",
      "INFO:myGpt:Generating content\n",
      "INFO:httpx:HTTP Request: POST http://127.0.0.1:11434/api/generate \"HTTP/1.1 200 OK\"\n",
      "INFO:myGpt:Content generated\n",
      "INFO:myGpt:File created sandbox/hello_partner.py\n",
      "INFO:httpx:HTTP Request: POST https://api.openai.com/v1/files \"HTTP/1.1 200 OK\"\n",
      "INFO:myGpt:Generating content\n",
      "INFO:httpx:HTTP Request: POST http://127.0.0.1:11434/api/generate \"HTTP/1.1 200 OK\"\n",
      "INFO:myGpt:Content generated\n",
      "INFO:myGpt:File created sandbox/hello_world.py\n",
      "INFO:httpx:HTTP Request: POST https://api.openai.com/v1/files \"HTTP/1.1 200 OK\"\n",
      "INFO:httpx:HTTP Request: POST https://api.openai.com/v1/threads/thread_B4VWgePyEiNOVaaM4T0cqgkM/runs/run_RqZyLU2jvhgOnCP0yeEi74tl/submit_tool_outputs \"HTTP/1.1 200 OK\"\n",
      "INFO:myGpt:Done going through tool actions\n",
      "INFO:httpx:HTTP Request: GET https://api.openai.com/v1/threads/thread_B4VWgePyEiNOVaaM4T0cqgkM/runs/run_RqZyLU2jvhgOnCP0yeEi74tl \"HTTP/1.1 200 OK\"\n",
      "INFO:httpx:HTTP Request: GET https://api.openai.com/v1/threads/thread_B4VWgePyEiNOVaaM4T0cqgkM/runs/run_RqZyLU2jvhgOnCP0yeEi74tl \"HTTP/1.1 200 OK\"\n",
      "INFO:httpx:HTTP Request: GET https://api.openai.com/v1/threads/thread_B4VWgePyEiNOVaaM4T0cqgkM/runs/run_RqZyLU2jvhgOnCP0yeEi74tl \"HTTP/1.1 200 OK\"\n",
      "INFO:httpx:HTTP Request: GET https://api.openai.com/v1/threads/thread_B4VWgePyEiNOVaaM4T0cqgkM/runs/run_RqZyLU2jvhgOnCP0yeEi74tl \"HTTP/1.1 200 OK\"\n",
      "INFO:httpx:HTTP Request: GET https://api.openai.com/v1/threads/thread_B4VWgePyEiNOVaaM4T0cqgkM/runs/run_RqZyLU2jvhgOnCP0yeEi74tl \"HTTP/1.1 200 OK\"\n",
      "INFO:httpx:HTTP Request: GET https://api.openai.com/v1/threads/thread_B4VWgePyEiNOVaaM4T0cqgkM/runs/run_RqZyLU2jvhgOnCP0yeEi74tl \"HTTP/1.1 200 OK\"\n",
      "INFO:httpx:HTTP Request: GET https://api.openai.com/v1/threads/thread_B4VWgePyEiNOVaaM4T0cqgkM/runs/run_RqZyLU2jvhgOnCP0yeEi74tl \"HTTP/1.1 200 OK\"\n",
      "INFO:myGpt:Run complete\n",
      "INFO:httpx:HTTP Request: GET https://api.openai.com/v1/threads/thread_B4VWgePyEiNOVaaM4T0cqgkM/runs/run_RqZyLU2jvhgOnCP0yeEi74tl \"HTTP/1.1 200 OK\"\n",
      "INFO:myGpt:Finished waiting\n",
      "INFO:myGpt:Initializing agent\n",
      "INFO:httpx:HTTP Request: POST https://api.openai.com/v1/assistants \"HTTP/1.1 200 OK\"\n",
      "INFO:myGpt:Assistant initialized\n",
      "INFO:httpx:HTTP Request: GET https://api.openai.com/v1/threads/thread_B4VWgePyEiNOVaaM4T0cqgkM/messages?order=asc \"HTTP/1.1 200 OK\"\n",
      "INFO:httpx:HTTP Request: GET https://api.openai.com/v1/threads/thread_B4VWgePyEiNOVaaM4T0cqgkM/messages?order=asc&after=msg_mu669T5zkombL38xcGA0OuxT \"HTTP/1.1 200 OK\"\n"
     ]
    },
    {
     "name": "stdout",
     "output_type": "stream",
     "text": [
      "=========================================\n",
      "               messages \n",
      "-----------------------------------------\n",
      "user: can you build me two python functions, one that says 'hello there parter' when prompted, and another than says 'hello world' based on the input 'n' number of times\n",
      "assistant: I have assigned the task to create two Python functions. One function will print \"hello there parter\" when prompted, and the other function will take an input 'n' and print \"hello world\" n number of times. The files have been successfully created.\n",
      "=========================================\n"
     ]
    }
   ],
   "source": [
    "from myGpt import Agent as OAgent\n",
    "from agent_tools import delegate_instructions_json\n",
    "\n",
    "agi = OAgent(system_prompt=\"\"\"BACKGROUND: you are a project manager, if the user requests something to be built you MUST use delegate_instructions to a team of efficient workers.\n",
    "             \"\"\",\n",
    "             tools=[{\"type\": \"function\", \"function\":delegate_instructions_json},\n",
    "                    {\"type\": \"file_search\"}],\n",
    ")\n",
    "\n",
    "agi.chat(\"can you build me two python functions, one that says 'hello there parter' when prompted, and another than says 'hello world' based on the input 'n' number of times\")\n"
   ]
  },
  {
   "cell_type": "code",
   "execution_count": 2,
   "metadata": {},
   "outputs": [
    {
     "data": {
      "text/plain": [
       "['Make sure to install Python before running this code',\n",
       " \"install Python, run this code and enter a number to see 'hello world' printed that many times\"]"
      ]
     },
     "execution_count": 2,
     "metadata": {},
     "output_type": "execute_result"
    }
   ],
   "source": [
    "agi.file_comments"
   ]
  },
  {
   "cell_type": "code",
   "execution_count": null,
   "metadata": {},
   "outputs": [],
   "source": []
  }
 ],
 "metadata": {
  "kernelspec": {
   "display_name": "agi_with_front",
   "language": "python",
   "name": "python3"
  },
  "language_info": {
   "codemirror_mode": {
    "name": "ipython",
    "version": 3
   },
   "file_extension": ".py",
   "mimetype": "text/x-python",
   "name": "python",
   "nbconvert_exporter": "python",
   "pygments_lexer": "ipython3",
   "version": "3.11.8"
  }
 },
 "nbformat": 4,
 "nbformat_minor": 2
}
