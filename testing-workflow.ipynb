{
 "cells": [
  {
   "cell_type": "code",
   "execution_count": 1,
   "metadata": {},
   "outputs": [
    {
     "name": "stderr",
     "output_type": "stream",
     "text": [
      "INFO:myGpt:Initializing agent\n",
      "INFO:httpx:HTTP Request: POST https://api.openai.com/v1/assistants \"HTTP/1.1 200 OK\"\n",
      "INFO:myGpt:Assistant initialized\n",
      "INFO:myGpt:Creating thread\n",
      "INFO:httpx:HTTP Request: POST https://api.openai.com/v1/threads \"HTTP/1.1 200 OK\"\n",
      "INFO:myGpt:Thread created\n",
      "INFO:httpx:HTTP Request: POST https://api.openai.com/v1/threads/thread_pcH2z5NsOEZQ4qkD3wzNPE5Y/messages \"HTTP/1.1 200 OK\"\n",
      "INFO:myGpt:Waiting on run\n",
      "INFO:httpx:HTTP Request: POST https://api.openai.com/v1/threads/thread_pcH2z5NsOEZQ4qkD3wzNPE5Y/runs \"HTTP/1.1 200 OK\"\n",
      "INFO:httpx:HTTP Request: GET https://api.openai.com/v1/threads/thread_pcH2z5NsOEZQ4qkD3wzNPE5Y/runs/run_fechPLG1eQ7LqVPGLEwZ6F07 \"HTTP/1.1 200 OK\"\n",
      "INFO:httpx:HTTP Request: GET https://api.openai.com/v1/threads/thread_pcH2z5NsOEZQ4qkD3wzNPE5Y/runs/run_fechPLG1eQ7LqVPGLEwZ6F07 \"HTTP/1.1 200 OK\"\n",
      "INFO:httpx:HTTP Request: GET https://api.openai.com/v1/threads/thread_pcH2z5NsOEZQ4qkD3wzNPE5Y/runs/run_fechPLG1eQ7LqVPGLEwZ6F07 \"HTTP/1.1 200 OK\"\n",
      "INFO:httpx:HTTP Request: GET https://api.openai.com/v1/threads/thread_pcH2z5NsOEZQ4qkD3wzNPE5Y/runs/run_fechPLG1eQ7LqVPGLEwZ6F07 \"HTTP/1.1 200 OK\"\n",
      "INFO:httpx:HTTP Request: GET https://api.openai.com/v1/threads/thread_pcH2z5NsOEZQ4qkD3wzNPE5Y/runs/run_fechPLG1eQ7LqVPGLEwZ6F07 \"HTTP/1.1 200 OK\"\n",
      "INFO:httpx:HTTP Request: GET https://api.openai.com/v1/threads/thread_pcH2z5NsOEZQ4qkD3wzNPE5Y/runs/run_fechPLG1eQ7LqVPGLEwZ6F07 \"HTTP/1.1 200 OK\"\n",
      "INFO:httpx:HTTP Request: GET https://api.openai.com/v1/threads/thread_pcH2z5NsOEZQ4qkD3wzNPE5Y/runs/run_fechPLG1eQ7LqVPGLEwZ6F07 \"HTTP/1.1 200 OK\"\n",
      "INFO:httpx:HTTP Request: GET https://api.openai.com/v1/threads/thread_pcH2z5NsOEZQ4qkD3wzNPE5Y/runs/run_fechPLG1eQ7LqVPGLEwZ6F07 \"HTTP/1.1 200 OK\"\n",
      "INFO:myGpt:Requires action\n",
      "INFO:myGpt:Going through tool actions\n",
      "INFO:myGpt:delegate_instructions\n",
      "INFO:myGpt:Generating content\n",
      "INFO:httpx:HTTP Request: POST http://127.0.0.1:11434/api/generate \"HTTP/1.1 200 OK\"\n",
      "INFO:myGpt:Generating content\n",
      "INFO:myGpt:File created sandbox/partner_greeting.py\n",
      "INFO:httpx:HTTP Request: POST https://api.openai.com/v1/files \"HTTP/1.1 200 OK\"\n",
      "INFO:myGpt:Generating content\n",
      "INFO:httpx:HTTP Request: POST http://127.0.0.1:11434/api/generate \"HTTP/1.1 200 OK\"\n",
      "INFO:myGpt:Generating content\n",
      "INFO:myGpt:File created sandbox/good_guy_greeting.py\n",
      "INFO:httpx:HTTP Request: POST https://api.openai.com/v1/files \"HTTP/1.1 200 OK\"\n",
      "INFO:httpx:HTTP Request: POST https://api.openai.com/v1/threads/thread_pcH2z5NsOEZQ4qkD3wzNPE5Y/runs/run_fechPLG1eQ7LqVPGLEwZ6F07/submit_tool_outputs \"HTTP/1.1 200 OK\"\n",
      "INFO:myGpt:Done going through tool actions\n",
      "INFO:httpx:HTTP Request: GET https://api.openai.com/v1/threads/thread_pcH2z5NsOEZQ4qkD3wzNPE5Y/runs/run_fechPLG1eQ7LqVPGLEwZ6F07 \"HTTP/1.1 200 OK\"\n",
      "INFO:httpx:HTTP Request: GET https://api.openai.com/v1/threads/thread_pcH2z5NsOEZQ4qkD3wzNPE5Y/runs/run_fechPLG1eQ7LqVPGLEwZ6F07 \"HTTP/1.1 200 OK\"\n",
      "INFO:httpx:HTTP Request: GET https://api.openai.com/v1/threads/thread_pcH2z5NsOEZQ4qkD3wzNPE5Y/runs/run_fechPLG1eQ7LqVPGLEwZ6F07 \"HTTP/1.1 200 OK\"\n",
      "INFO:httpx:HTTP Request: GET https://api.openai.com/v1/threads/thread_pcH2z5NsOEZQ4qkD3wzNPE5Y/runs/run_fechPLG1eQ7LqVPGLEwZ6F07 \"HTTP/1.1 200 OK\"\n",
      "INFO:httpx:HTTP Request: GET https://api.openai.com/v1/threads/thread_pcH2z5NsOEZQ4qkD3wzNPE5Y/runs/run_fechPLG1eQ7LqVPGLEwZ6F07 \"HTTP/1.1 200 OK\"\n",
      "INFO:httpx:HTTP Request: GET https://api.openai.com/v1/threads/thread_pcH2z5NsOEZQ4qkD3wzNPE5Y/runs/run_fechPLG1eQ7LqVPGLEwZ6F07 \"HTTP/1.1 200 OK\"\n",
      "INFO:myGpt:Run complete\n",
      "INFO:httpx:HTTP Request: GET https://api.openai.com/v1/threads/thread_pcH2z5NsOEZQ4qkD3wzNPE5Y/runs/run_fechPLG1eQ7LqVPGLEwZ6F07 \"HTTP/1.1 200 OK\"\n",
      "INFO:myGpt:Finished waiting\n",
      "INFO:myGpt:Initializing agent\n",
      "INFO:httpx:HTTP Request: POST https://api.openai.com/v1/assistants \"HTTP/1.1 200 OK\"\n",
      "INFO:myGpt:Assistant initialized\n",
      "INFO:httpx:HTTP Request: GET https://api.openai.com/v1/threads/thread_pcH2z5NsOEZQ4qkD3wzNPE5Y/messages?order=asc \"HTTP/1.1 200 OK\"\n",
      "INFO:httpx:HTTP Request: GET https://api.openai.com/v1/threads/thread_pcH2z5NsOEZQ4qkD3wzNPE5Y/messages?order=asc&after=msg_z9OMqoRXgoaPTRs9VRwxZ3TY \"HTTP/1.1 200 OK\"\n"
     ]
    },
    {
     "name": "stdout",
     "output_type": "stream",
     "text": [
      "=========================================\n",
      "               messages \n",
      "-----------------------------------------\n",
      "user: can you build me two python functions, one that says 'hello there parter' when prompted, and another than says 'hi there good guy'\n",
      "assistant: I've delegated the task to create the two Python functions for greetings. You'll find the files \"partner_greeting.py\" and \"good_guy_greeting.py\" with the specified greetings once they are completed.\n",
      "=========================================\n"
     ]
    }
   ],
   "source": [
    "from myGpt import Agent as OAgent\n",
    "from agent_tools import delegate_instructions_json\n",
    "\n",
    "agi = OAgent(system_prompt=\"\"\"BACKGROUND: you are a project manager, if the user requests something to be built you MUST use delegate_instructions to a team of efficient workers.\n",
    "             \"\"\",\n",
    "             tools=[{\"type\": \"function\", \"function\":delegate_instructions_json},\n",
    "                    {\"type\": \"file_search\"}],\n",
    ")\n",
    "\n",
    "agi.chat(\"can you build me two python functions, one that says 'hello there parter' when prompted, and another than says 'hi there good guy'\")\n"
   ]
  },
  {
   "cell_type": "code",
   "execution_count": 2,
   "metadata": {},
   "outputs": [
    {
     "data": {
      "text/plain": [
       "['install python, import requests (for web scraping), etc',\n",
       " 'Just install Python and run this code to see the magic happen!']"
      ]
     },
     "execution_count": 2,
     "metadata": {},
     "output_type": "execute_result"
    }
   ],
   "source": [
    "agi.file_comments"
   ]
  },
  {
   "cell_type": "code",
   "execution_count": null,
   "metadata": {},
   "outputs": [],
   "source": []
  }
 ],
 "metadata": {
  "kernelspec": {
   "display_name": "agi_with_front",
   "language": "python",
   "name": "python3"
  },
  "language_info": {
   "codemirror_mode": {
    "name": "ipython",
    "version": 3
   },
   "file_extension": ".py",
   "mimetype": "text/x-python",
   "name": "python",
   "nbconvert_exporter": "python",
   "pygments_lexer": "ipython3",
   "version": "3.11.8"
  }
 },
 "nbformat": 4,
 "nbformat_minor": 2
}
